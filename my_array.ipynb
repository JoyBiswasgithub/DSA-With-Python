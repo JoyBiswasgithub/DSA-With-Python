{
 "cells": [
  {
   "cell_type": "code",
   "execution_count": 3,
   "metadata": {},
   "outputs": [],
   "source": [
    "import ctypes"
   ]
  },
  {
   "cell_type": "code",
   "execution_count": 182,
   "metadata": {},
   "outputs": [],
   "source": [
    "class Myarray:\n",
    "    def __init__(self):\n",
    "        self.size = 1 \n",
    "        self.n = 0\n",
    "        self.A = self.createArray(self.size)\n",
    "        \n",
    "    # Find out the length of the array \n",
    "    def __len__(self):\n",
    "        return self.n\n",
    "    \n",
    "    # Print array ==>  [a,2,d,f]\n",
    "    def __str__(self):\n",
    "        prnt = ''\n",
    "        for i in range(self.n):\n",
    "            prnt = prnt + str(self.A[i]) + ','\n",
    "        return '['+prnt[:-1]+']'\n",
    "    \n",
    "    # Indexing \n",
    "    def __getitem__(self, index):\n",
    "        if 0 <= index <= self.n:\n",
    "            return self.A[index]\n",
    "        return \"IndexError or Index value out of range\"\n",
    "    \n",
    "    # Delete Using Magic method \n",
    "    def __delitem__(self, pos):\n",
    "        if 0 <= pos <= self.n:\n",
    "            for i in range(pos, self.n -1):\n",
    "                self.A[i] = self.A[i+1]\n",
    "            self.n = self.n - 1\n",
    "        else:\n",
    "            return \"IndexError\"\n",
    "    \n",
    "    #create Array\n",
    "    def createArray(self, capacity):\n",
    "        # create a array \n",
    "        return (capacity*ctypes.py_object)()\n",
    "    \n",
    "    # Append\n",
    "    def append(self, item):\n",
    "        # If array is full\n",
    "        if self.n == self.size:\n",
    "            self.resizeArray(self.size + 10 )\n",
    "        # If array is not full\n",
    "        self.A[self.n] = item\n",
    "        self.n = self.n + 1\n",
    "        \n",
    "    # pop\n",
    "    def pop(self):\n",
    "        if self.n == 0:\n",
    "            return \"Empty List\"\n",
    "        #print(self.A[self.n - 1])\n",
    "        self.n = self.n - 1      \n",
    "    \n",
    "    # Clear\n",
    "    def clear(self):\n",
    "        self.n = 0\n",
    "        self.size = 1\n",
    "        \n",
    "    # Find Item\n",
    "    def find(self, item):\n",
    "        for i in range(self.n):\n",
    "            if self[i]==item:\n",
    "                return i\n",
    "        return \"Not in List\"\n",
    "    \n",
    "    # insert \n",
    "    def insert(self, pos, item):\n",
    "        if self.n == self.size:\n",
    "            self.resizeArray(self.size+1)\n",
    "        for i in range(self.n, pos, -1):\n",
    "            self.A[i] = self.A[i-1]\n",
    "        self.A[pos] = item\n",
    "        self.n = self.n + 1\n",
    "        \n",
    "    # Delete \n",
    "    def delete(self, index):\n",
    "        if 0 <= index <= self.n:\n",
    "            if index == self.n-1:\n",
    "                self.pop()\n",
    "            else:\n",
    "                for i in range(index, self.n - 1):\n",
    "                    self.A[i] = self.A[i+1]\n",
    "                self.n = self.n - 1\n",
    "        else:\n",
    "            return 'IndexError'\n",
    "    \n",
    "    # Remove \n",
    "    def remove(self, item):\n",
    "        pos = self.find(item)\n",
    "        if pos != \"Not in List\":\n",
    "            self.delete(pos)\n",
    "        else:\n",
    "            return pos\n",
    "    \n",
    "    # Create method for fresizing the array       \n",
    "    def resizeArray(self, new_capacity):\n",
    "        self.size = new_capacity\n",
    "        B = self.createArray(new_capacity)\n",
    "        for i in range(self.n):\n",
    "            B[i] = self.A[i]\n",
    "        self.A = B"
   ]
  },
  {
   "cell_type": "code",
   "execution_count": 183,
   "metadata": {},
   "outputs": [],
   "source": [
    "ar = Myarray()"
   ]
  },
  {
   "cell_type": "code",
   "execution_count": 166,
   "metadata": {},
   "outputs": [],
   "source": [
    "ar.append(1)\n",
    "ar.append(2)\n",
    "ar.append(3)"
   ]
  },
  {
   "cell_type": "code",
   "execution_count": 167,
   "metadata": {},
   "outputs": [
    {
     "data": {
      "text/plain": [
       "3"
      ]
     },
     "execution_count": 167,
     "metadata": {},
     "output_type": "execute_result"
    }
   ],
   "source": [
    "len(ar)"
   ]
  },
  {
   "cell_type": "code",
   "execution_count": 117,
   "metadata": {},
   "outputs": [
    {
     "name": "stdout",
     "output_type": "stream",
     "text": [
      "[1,2,3]\n"
     ]
    }
   ],
   "source": [
    "print(ar)"
   ]
  },
  {
   "cell_type": "code",
   "execution_count": 95,
   "metadata": {},
   "outputs": [
    {
     "data": {
      "text/plain": [
       "2"
      ]
     },
     "execution_count": 95,
     "metadata": {},
     "output_type": "execute_result"
    }
   ],
   "source": [
    "ar[1]"
   ]
  },
  {
   "cell_type": "code",
   "execution_count": 75,
   "metadata": {},
   "outputs": [
    {
     "data": {
      "text/plain": [
       "'IndexError or Index value out of range'"
      ]
     },
     "execution_count": 75,
     "metadata": {},
     "output_type": "execute_result"
    }
   ],
   "source": [
    "ar[-1]"
   ]
  },
  {
   "cell_type": "code",
   "execution_count": 76,
   "metadata": {},
   "outputs": [
    {
     "name": "stdout",
     "output_type": "stream",
     "text": [
      "3\n"
     ]
    }
   ],
   "source": [
    "ar.pop()"
   ]
  },
  {
   "cell_type": "code",
   "execution_count": 148,
   "metadata": {},
   "outputs": [],
   "source": [
    "ar.clear()"
   ]
  },
  {
   "cell_type": "code",
   "execution_count": 78,
   "metadata": {},
   "outputs": [
    {
     "data": {
      "text/plain": [
       "<__main__.Myarray at 0x1799f397bd0>"
      ]
     },
     "execution_count": 78,
     "metadata": {},
     "output_type": "execute_result"
    }
   ],
   "source": [
    "ar"
   ]
  },
  {
   "cell_type": "code",
   "execution_count": 79,
   "metadata": {},
   "outputs": [
    {
     "name": "stdout",
     "output_type": "stream",
     "text": [
      "[]\n"
     ]
    }
   ],
   "source": [
    "print(ar)"
   ]
  },
  {
   "cell_type": "code",
   "execution_count": 89,
   "metadata": {},
   "outputs": [
    {
     "data": {
      "text/plain": [
       "2"
      ]
     },
     "execution_count": 89,
     "metadata": {},
     "output_type": "execute_result"
    }
   ],
   "source": [
    "ar.find(3)"
   ]
  },
  {
   "cell_type": "code",
   "execution_count": 110,
   "metadata": {},
   "outputs": [],
   "source": [
    "ar.insert(1, 30)"
   ]
  },
  {
   "cell_type": "code",
   "execution_count": 111,
   "metadata": {},
   "outputs": [
    {
     "name": "stdout",
     "output_type": "stream",
     "text": [
      "[1,30,2,3]\n"
     ]
    }
   ],
   "source": [
    "print(ar)"
   ]
  },
  {
   "cell_type": "code",
   "execution_count": 184,
   "metadata": {},
   "outputs": [],
   "source": [
    "ar.append(11)\n",
    "ar.append(21)\n",
    "ar.append(13)\n",
    "ar.append('A')\n",
    "ar.append('B')\n",
    "ar.append('C')"
   ]
  },
  {
   "cell_type": "code",
   "execution_count": 185,
   "metadata": {},
   "outputs": [
    {
     "name": "stdout",
     "output_type": "stream",
     "text": [
      "[11,21,13,A,B,C]\n"
     ]
    }
   ],
   "source": [
    "print(ar)"
   ]
  },
  {
   "cell_type": "code",
   "execution_count": 186,
   "metadata": {},
   "outputs": [
    {
     "data": {
      "text/plain": [
       "6"
      ]
     },
     "execution_count": 186,
     "metadata": {},
     "output_type": "execute_result"
    }
   ],
   "source": [
    "len(ar)"
   ]
  },
  {
   "cell_type": "code",
   "execution_count": 189,
   "metadata": {},
   "outputs": [
    {
     "data": {
      "text/plain": [
       "'Not in List'"
      ]
     },
     "execution_count": 189,
     "metadata": {},
     "output_type": "execute_result"
    }
   ],
   "source": [
    "ar.remove('A')"
   ]
  },
  {
   "cell_type": "code",
   "execution_count": 188,
   "metadata": {},
   "outputs": [
    {
     "name": "stdout",
     "output_type": "stream",
     "text": [
      "[11,21,13,B,C]\n"
     ]
    }
   ],
   "source": [
    "print(ar)"
   ]
  },
  {
   "cell_type": "code",
   "execution_count": 170,
   "metadata": {},
   "outputs": [],
   "source": [
    "del ar[1]"
   ]
  },
  {
   "cell_type": "code",
   "execution_count": null,
   "metadata": {},
   "outputs": [],
   "source": []
  }
 ],
 "metadata": {
  "kernelspec": {
   "display_name": "Python 3",
   "language": "python",
   "name": "python3"
  },
  "language_info": {
   "codemirror_mode": {
    "name": "ipython",
    "version": 3
   },
   "file_extension": ".py",
   "mimetype": "text/x-python",
   "name": "python",
   "nbconvert_exporter": "python",
   "pygments_lexer": "ipython3",
   "version": "3.11.4"
  }
 },
 "nbformat": 4,
 "nbformat_minor": 2
}
